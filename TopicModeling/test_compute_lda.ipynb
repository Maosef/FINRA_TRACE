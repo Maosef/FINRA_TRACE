{
 "cells": [
  {
   "cell_type": "code",
   "execution_count": 1,
   "metadata": {},
   "outputs": [
    {
     "name": "stderr",
     "output_type": "stream",
     "text": [
      "/cliphomes/amao1/miniconda3/envs/finra/lib/python3.7/site-packages/past/types/oldstr.py:5: DeprecationWarning: Using or importing the ABCs from 'collections' instead of from 'collections.abc' is deprecated, and in 3.8 it will stop working\n",
      "  from collections import Iterable\n"
     ]
    }
   ],
   "source": [
    "# Import local files\n",
    "from manage_path import *\n",
    "from get_data import *\n",
    "from compute_lda import *"
   ]
  },
  {
   "cell_type": "code",
   "execution_count": 2,
   "metadata": {},
   "outputs": [
    {
     "name": "stdout",
     "output_type": "stream",
     "text": [
      "Getting data from/cliphomes/amao1/FINRA_TRACE/Data/Pickle/FINRA_TRACE_2014.pkl.zip...\n",
      "Data getting success from /cliphomes/amao1/FINRA_TRACE/Data/Pickle/FINRA_TRACE_2014.pkl.zip!\n"
     ]
    }
   ],
   "source": [
    "data = load_pickle(file_name=\"FINRA_TRACE_2014.pkl.zip\")"
   ]
  },
  {
   "cell_type": "code",
   "execution_count": 3,
   "metadata": {},
   "outputs": [
    {
     "data": {
      "text/plain": [
       "BOND_SYM_ID                    object\n",
       "CUSIP_ID                       object\n",
       "SCRTY_TYPE_CD                  object\n",
       "ENTRD_VOL_QT                  float64\n",
       "RPTD_PR                       float64\n",
       "RPT_SIDE_CD                    object\n",
       "Year                          float64\n",
       "document_date                  object\n",
       "TRD_EXCTN_DTTM         datetime64[ns]\n",
       "TRD_RPT_DTTM           datetime64[ns]\n",
       "Report_Dealer_Index            object\n",
       "Contra_Party_Index             object\n",
       "TRC_ST                         object\n",
       "RATING_MR                      object\n",
       "RATING_MR_Numeric             float64\n",
       "OFFERING_DATE          datetime64[ns]\n",
       "ISSUE_ID                      float64\n",
       "MATURITY               datetime64[ns]\n",
       "OFFERING_AMT                  float64\n",
       "AMOUNT_OUTSTANDING            float64\n",
       "Vol_grt_out                   float64\n",
       "dtype: object"
      ]
     },
     "execution_count": 3,
     "metadata": {},
     "output_type": "execute_result"
    }
   ],
   "source": [
    "data.dtypes"
   ]
  },
  {
   "cell_type": "code",
   "execution_count": 9,
   "metadata": {},
   "outputs": [
    {
     "name": "stdout",
     "output_type": "stream",
     "text": [
      "creating documents ......\n",
      "documents created!!\n",
      "computing bag_of_words ......\n",
      "computing bag_of_words done!\n",
      "CPU times: user 1min 49s, sys: 8.14 s, total: 1min 57s\n",
      "Wall time: 1min 57s\n"
     ]
    }
   ],
   "source": [
    "%%time\n",
    "bag_of_words = trade_SV_BoW(data)\n",
    "# bag_of_words = trade_vol_BoW(data,\"large\")"
   ]
  },
  {
   "cell_type": "code",
   "execution_count": 10,
   "metadata": {},
   "outputs": [
    {
     "name": "stdout",
     "output_type": "stream",
     "text": [
      "                    A.GC  A.GE  A.GF  A3900782  A4020252  A4172095  A4172097  \\\n",
      "10,2014-01-07,StC    NaN   NaN   NaN       NaN       NaN       NaN       NaN   \n",
      "10,2014-01-09,StD    NaN   NaN   NaN       NaN       NaN       NaN       NaN   \n",
      "10,2014-01-13,StC    NaN   NaN   NaN       NaN       NaN       NaN       NaN   \n",
      "10,2014-01-14,StC    NaN   NaN   NaN       NaN       NaN       NaN       NaN   \n",
      "10,2014-01-14,StD    NaN   NaN   NaN       NaN       NaN       NaN       NaN   \n",
      "...                  ...   ...   ...       ...       ...       ...       ...   \n",
      "996,2014-11-04,BfC   NaN   NaN   NaN       NaN       NaN       NaN       NaN   \n",
      "996,2014-11-06,BfC   NaN   NaN   NaN       NaN       NaN       NaN       NaN   \n",
      "996,2014-11-13,BfD   NaN   NaN   NaN       NaN       NaN       NaN       NaN   \n",
      "996,2014-12-09,BfC   NaN   NaN   NaN       NaN       NaN       NaN       NaN   \n",
      "999,2014-10-27,BfC   NaN   NaN   NaN       NaN       NaN       NaN       NaN   \n",
      "\n",
      "                    AA.AA  AA.GI  AA.GL  ...  ZION4066869  ZLIOF3944284  \\\n",
      "10,2014-01-07,StC     NaN    NaN    NaN  ...          NaN           NaN   \n",
      "10,2014-01-09,StD     NaN    NaN    NaN  ...          NaN           NaN   \n",
      "10,2014-01-13,StC     NaN    NaN    NaN  ...          NaN           NaN   \n",
      "10,2014-01-14,StC     NaN    NaN    NaN  ...          NaN           NaN   \n",
      "10,2014-01-14,StD     NaN    NaN    NaN  ...          NaN           NaN   \n",
      "...                   ...    ...    ...  ...          ...           ...   \n",
      "996,2014-11-04,BfC    NaN    NaN    NaN  ...          NaN           NaN   \n",
      "996,2014-11-06,BfC    NaN    NaN    NaN  ...          NaN           NaN   \n",
      "996,2014-11-13,BfD    NaN    NaN    NaN  ...          NaN           NaN   \n",
      "996,2014-12-09,BfC    NaN    NaN    NaN  ...          NaN           NaN   \n",
      "999,2014-10-27,BfC    NaN    NaN    NaN  ...          NaN           NaN   \n",
      "\n",
      "                    ZMH.AA  ZMH.AB  ZMH.AC  ZMH.AD  ZQK4029107  ZQK4062844  \\\n",
      "10,2014-01-07,StC      NaN     NaN     NaN     NaN         NaN         NaN   \n",
      "10,2014-01-09,StD      NaN     NaN     NaN     NaN         NaN         NaN   \n",
      "10,2014-01-13,StC      NaN     NaN     NaN     NaN         NaN         NaN   \n",
      "10,2014-01-14,StC      NaN     NaN     NaN     NaN         NaN         NaN   \n",
      "10,2014-01-14,StD      NaN     NaN     NaN     NaN         NaN         NaN   \n",
      "...                    ...     ...     ...     ...         ...         ...   \n",
      "996,2014-11-04,BfC     NaN     NaN     NaN     NaN         NaN         NaN   \n",
      "996,2014-11-06,BfC     NaN     NaN     NaN     NaN         NaN         NaN   \n",
      "996,2014-11-13,BfD     NaN     NaN     NaN     NaN         NaN         NaN   \n",
      "996,2014-12-09,BfC     NaN     NaN     NaN     NaN         NaN         NaN   \n",
      "999,2014-10-27,BfC     NaN     NaN     NaN     NaN         NaN         NaN   \n",
      "\n",
      "                    ZUAN.GA  ZUAN.GB  \n",
      "10,2014-01-07,StC       NaN      NaN  \n",
      "10,2014-01-09,StD       NaN      NaN  \n",
      "10,2014-01-13,StC       NaN      NaN  \n",
      "10,2014-01-14,StC       NaN      NaN  \n",
      "10,2014-01-14,StD       NaN      NaN  \n",
      "...                     ...      ...  \n",
      "996,2014-11-04,BfC      NaN      NaN  \n",
      "996,2014-11-06,BfC      NaN      NaN  \n",
      "996,2014-11-13,BfD      NaN      NaN  \n",
      "996,2014-12-09,BfC      NaN      NaN  \n",
      "999,2014-10-27,BfC      NaN      NaN  \n",
      "\n",
      "[287800 rows x 12013 columns]\n"
     ]
    }
   ],
   "source": [
    "print(bag_of_words)"
   ]
  },
  {
   "cell_type": "code",
   "execution_count": 11,
   "metadata": {},
   "outputs": [
    {
     "name": "stdout",
     "output_type": "stream",
     "text": [
      "3456142416\n"
     ]
    }
   ],
   "source": [
    "print(bag_of_words.isna().sum().sum())\n",
    "\n",
    "# vals = bag_of_words.values\n",
    "# for i in range(10):\n",
    "#     print(len(vals[i]))"
   ]
  },
  {
   "cell_type": "code",
   "execution_count": 12,
   "metadata": {},
   "outputs": [
    {
     "data": {
      "text/plain": [
       "1198984"
      ]
     },
     "execution_count": 12,
     "metadata": {},
     "output_type": "execute_result"
    }
   ],
   "source": [
    "# volume\n",
    "# (274150 * 11935) - 3266355180\n",
    "# frac_out\n",
    "(287800 * 12013) - 3456142416"
   ]
  },
  {
   "cell_type": "code",
   "execution_count": null,
   "metadata": {},
   "outputs": [],
   "source": [
    "data['price'] = (data['ENTRD_VOL_QT'] * data['RPTD_PR'])/100"
   ]
  },
  {
   "cell_type": "code",
   "execution_count": null,
   "metadata": {},
   "outputs": [],
   "source": [
    "data['price'].describe()"
   ]
  },
  {
   "cell_type": "code",
   "execution_count": null,
   "metadata": {},
   "outputs": [],
   "source": [
    "\"\"\"Compute Dc_v4 which is count of bonds on given dealer and day seperated buy and sell\"\"\"\n",
    "data['document_date'] = data['TRD_EXCTN_DTTM'].dt.date.apply(lambda x: str(x))\n",
    "create_buy_document_no_source_vectorize = np.vectorize(create_buy_document_no_source)\n",
    "create_sell_document_no_source_vectorize = np.vectorize(create_sell_document_no_source)\n",
    "client_to_delete_vectorize = np.vectorize(client_to_delete)\n",
    "print(\"creating documents ......\")\n",
    "# Add new column Dc_v4_S which is the string representation of report dealer buy on the specific day\n",
    "data['Dc_v4_S'] = create_sell_document_no_source_vectorize(data['Report_Dealer_Index'].values,data['Contra_Party_Index'].values,data['document_date'].values)\n",
    "# Add new column Dc_v4_B which is the string representation of report dealer sell on the specific day\n",
    "data['Dc_v4_B'] = create_buy_document_no_source_vectorize(data['Report_Dealer_Index'].values,data['Contra_Party_Index'].values,data['document_date'].values)\n",
    "print(\"documents created!!\")"
   ]
  },
  {
   "cell_type": "code",
   "execution_count": null,
   "metadata": {},
   "outputs": [],
   "source": [
    "type(data['Dc_v4_S'].iloc[7])"
   ]
  },
  {
   "cell_type": "code",
   "execution_count": null,
   "metadata": {},
   "outputs": [],
   "source": [
    "1 != 2"
   ]
  },
  {
   "cell_type": "code",
   "execution_count": null,
   "metadata": {},
   "outputs": [],
   "source": [
    "data_sub = data[['Dc_v4_S','Dc_v4_B','BOND_SYM_ID','price']].copy()\n",
    "data_gb_sell = data_sub[data_sub['Dc_v4_S']!='nan'].groupby(by=['Dc_v4_S','BOND_SYM_ID'])\n",
    "data_gb_buy = data_sub[data_sub['Dc_v4_B']!='nan'].groupby(by=['Dc_v4_B','BOND_SYM_ID'])"
   ]
  },
  {
   "cell_type": "code",
   "execution_count": null,
   "metadata": {},
   "outputs": [],
   "source": [
    "#sell_matrix = data_gb_sell['price'].sum().unstack(fill_value=0)"
   ]
  },
  {
   "cell_type": "code",
   "execution_count": null,
   "metadata": {},
   "outputs": [],
   "source": [
    "data_gb_sell['price'].sum().to_sparse().unstack(level=-1)"
   ]
  },
  {
   "cell_type": "code",
   "execution_count": null,
   "metadata": {},
   "outputs": [],
   "source": [
    "sell_df = data_gb_sell['price'].sum().to_frame()"
   ]
  },
  {
   "cell_type": "code",
   "execution_count": null,
   "metadata": {},
   "outputs": [],
   "source": [
    "sell_df.describe()"
   ]
  },
  {
   "cell_type": "code",
   "execution_count": null,
   "metadata": {},
   "outputs": [],
   "source": [
    "sell_df['']"
   ]
  },
  {
   "cell_type": "code",
   "execution_count": null,
   "metadata": {},
   "outputs": [],
   "source": [
    "bins=[0,10000,100000,1000000,10000000,sell_df[sell_df['price']>0]['price'].max()]\n",
    "labels = [i for i in range(len(bins)-1)]\n",
    "pd.cut(sell_df[sell_df['price']>0]['price'],bins=bins,labels=labels)"
   ]
  },
  {
   "cell_type": "code",
   "execution_count": null,
   "metadata": {},
   "outputs": [],
   "source": [
    "pd.DataFrame(preprocessing.minmax_scale(sell_df[sell_df['price']>0],feature_range=(0, 5))).describe()"
   ]
  },
  {
   "cell_type": "code",
   "execution_count": null,
   "metadata": {
    "scrolled": true
   },
   "outputs": [],
   "source": [
    "sell_df.groupby(level=0).count().iloc[12::].describe()"
   ]
  },
  {
   "cell_type": "code",
   "execution_count": null,
   "metadata": {},
   "outputs": [],
   "source": [
    "data_gb_sell['price'].sum().describe()"
   ]
  },
  {
   "cell_type": "raw",
   "metadata": {},
   "source": [
    "print(\"computing Dc_v4 ......\")\n",
    "Dc_v4 = data_gb_sell['price'].sum().unstack(fill_value=0)\n",
    "Dc_v4 = Dc_v4.append(data_gb_buy['price'].sum().unstack(fill_value=0))\n",
    "Dc_v4 = Dc_v4.sort_index(axis=1)\n",
    "print(\"computing Dc_v4 done!\")\n",
    "print(\"flitering out general client in Dc_v4\")\n",
    "Dc_v4['to_delete'] = client_to_delete_vectorize(Dc_v4.index)\n",
    "Dc_v4 = Dc_v4.loc[Dc_v4['to_delete']!='delete'].drop(['to_delete'],axis=1).copy()\n",
    "#Dc_v4 = Dc_v4[Dc_v4.sum(axis=1) > 3].copy()\n",
    "#Dc_v4.dropna(axis=1,how='all',inplace=True)\n",
    "print(\"all done!\")"
   ]
  },
  {
   "cell_type": "code",
   "execution_count": null,
   "metadata": {},
   "outputs": [],
   "source": [
    "from scipy.stats import mstats"
   ]
  },
  {
   "cell_type": "code",
   "execution_count": null,
   "metadata": {},
   "outputs": [],
   "source": [
    "data['price_winsor'] = pd.Series(mstats.winsorize(data['price'].values,limits=[0.10,0.10]))"
   ]
  },
  {
   "cell_type": "code",
   "execution_count": null,
   "metadata": {},
   "outputs": [],
   "source": [
    "pd.Series(preprocessing.minmax_scale(data['price_winsor'],feature_range=[0,5])).describe()"
   ]
  },
  {
   "cell_type": "code",
   "execution_count": null,
   "metadata": {},
   "outputs": [],
   "source": [
    "data['price_winsor']"
   ]
  },
  {
   "cell_type": "code",
   "execution_count": null,
   "metadata": {},
   "outputs": [],
   "source": []
  }
 ],
 "metadata": {
  "kernelspec": {
   "display_name": "Python [conda env:finra]",
   "language": "python",
   "name": "conda-env-finra-py"
  },
  "language_info": {
   "codemirror_mode": {
    "name": "ipython",
    "version": 3
   },
   "file_extension": ".py",
   "mimetype": "text/x-python",
   "name": "python",
   "nbconvert_exporter": "python",
   "pygments_lexer": "ipython3",
   "version": "3.7.4"
  }
 },
 "nbformat": 4,
 "nbformat_minor": 2
}
