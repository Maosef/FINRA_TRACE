{
 "cells": [
  {
   "cell_type": "code",
   "execution_count": 1,
   "metadata": {},
   "outputs": [],
   "source": [
    "# !pip install psutil\n",
    "# !conda install -c plotly plotly-orca\n",
    "\n",
    "# import plotly.io as pio\n",
    "# pio.orca.config.use_xvfb = True"
   ]
  },
  {
   "cell_type": "code",
   "execution_count": 2,
   "metadata": {},
   "outputs": [
    {
     "name": "stderr",
     "output_type": "stream",
     "text": [
      "/cliphomes/amao1/miniconda3/envs/finra/lib/python3.7/site-packages/past/types/oldstr.py:5: DeprecationWarning: Using or importing the ABCs from 'collections' instead of from 'collections.abc' is deprecated, and in 3.8 it will stop working\n",
      "  from collections import Iterable\n"
     ]
    }
   ],
   "source": [
    "import pandas as pd\n",
    "import numpy as np\n",
    "\n",
    "from manage_path import *\n",
    "from lda_analysis import *"
   ]
  },
  {
   "cell_type": "markdown",
   "metadata": {},
   "source": [
    "# Dc_v4"
   ]
  },
  {
   "cell_type": "code",
   "execution_count": 3,
   "metadata": {},
   "outputs": [],
   "source": [
    "# exp_type_name = 'trade_vol_BoW_norm_small_100topics'\n",
    "exp_type_name = 'Dc_v4_100topics'\n",
    "\n",
    "\n",
    "result_directory = get_result_directory()\n",
    "# Dc_v4 = pd.read_csv(result_directory/'Dc_v4_75topics.csv',index_col=0)\n",
    "# Dc_v4 = pd.read_csv(result_directory/'trade_SV_BoW_small_100topics.csv',index_col=0)\n",
    "Dc_v4 = pd.read_csv(result_directory/(exp_type_name + '.csv'),index_col=0)\n",
    "\n",
    "\n",
    "# trade_SV_BoW_small_100topics.csv\n",
    "# trade_vol_BoW_norm_small_100topics.csv"
   ]
  },
  {
   "cell_type": "code",
   "execution_count": 4,
   "metadata": {},
   "outputs": [],
   "source": [
    "get_document_item_vectorize = np.vectorize(get_document_item)\n",
    "Dc_v4['dealer'] = pd.Series(list(zip(get_document_item_vectorize(Dc_v4.index,0),get_document_item_vectorize(Dc_v4.index,2)))).values\n",
    "Dc_v4.index = pd.to_datetime(get_document_item_vectorize(Dc_v4.index,1))"
   ]
  },
  {
   "cell_type": "markdown",
   "metadata": {},
   "source": [
    "### Plot Sankey"
   ]
  },
  {
   "cell_type": "code",
   "execution_count": 5,
   "metadata": {},
   "outputs": [],
   "source": [
    "\n",
    "treshold_20 = create_sankey_matrix(Dc_v4,0.20)\n",
    "# plot_sankey(treshold_20,title='Dc_v4_75topics_THRESHOLD=0.2')\n",
    "# plot_sankey(treshold_20,title='Frac_Out_100topics_THRESHOLD=0.2')\n",
    "\n",
    "plot_sankey(treshold_20,title=exp_type_name + '_THRESHOLD=0.2')"
   ]
  },
  {
   "cell_type": "code",
   "execution_count": 6,
   "metadata": {},
   "outputs": [],
   "source": [
    "treshold_10 = create_sankey_matrix(Dc_v4,0.10)\n",
    "# plot_sankey(treshold_10,title='Dc_v4_75topics_THRESHOLD=0.1')\n",
    "plot_sankey(treshold_10,title=exp_type_name+'_THRESHOLD=0.1')"
   ]
  },
  {
   "cell_type": "code",
   "execution_count": 7,
   "metadata": {},
   "outputs": [],
   "source": [
    "treshold_05 = create_sankey_matrix(Dc_v4,0.05)\n",
    "# plot_sankey(treshold_05,title='Dc_v4_75topics_THRESHOLD=0.05')\n",
    "plot_sankey(treshold_05,title=exp_type_name+'_THRESHOLD=0.05')"
   ]
  },
  {
   "cell_type": "code",
   "execution_count": 8,
   "metadata": {},
   "outputs": [],
   "source": [
    "#treshold_05.groupby(['topicID'])['dealer'].nunique().sort_values()"
   ]
  },
  {
   "cell_type": "code",
   "execution_count": 9,
   "metadata": {},
   "outputs": [],
   "source": [
    "topic_selection = [6,13,16,42,44,46,49,65,71]"
   ]
  },
  {
   "cell_type": "code",
   "execution_count": 10,
   "metadata": {},
   "outputs": [],
   "source": [
    "# treshold_10_sub = create_sankey_matrix(Dc_v4,0.10,topic_selection=topic_selection)\n",
    "# # plot_sankey(treshold_10_sub,title='Dc_v4_75topics_THRESHOLD=0.1_subgraph',width=750,height=1500)\n",
    "# plot_sankey(treshold_10_sub,title='Frac_Out_100topics_THRESHOLD=0.1_subgraph',width=750,height=1500)"
   ]
  },
  {
   "cell_type": "code",
   "execution_count": 11,
   "metadata": {},
   "outputs": [],
   "source": [
    "# treshold_20_sub = create_sankey_matrix(Dc_v4,0.20,topic_selection=topic_selection)\n",
    "# # plot_sankey(treshold_20_sub,title='Dc_v4_75topics_THRESHOLD=0.2_subgraph',width=750,height=1500)\n",
    "# plot_sankey(treshold_20_sub,title='Frac_Out_100topics_THRESHOLD=0.2_subgraph',width=750,height=1500)"
   ]
  },
  {
   "cell_type": "markdown",
   "metadata": {},
   "source": [
    "### Analysis"
   ]
  },
  {
   "cell_type": "code",
   "execution_count": 12,
   "metadata": {},
   "outputs": [],
   "source": [
    "sankey_array = [create_sankey_matrix(Dc_v4,x) for x in np.linspace(0,0.2,5)]"
   ]
  },
  {
   "cell_type": "code",
   "execution_count": 13,
   "metadata": {},
   "outputs": [
    {
     "data": {
      "text/plain": [
       "array([0.  , 0.05, 0.1 , 0.15, 0.2 ])"
      ]
     },
     "execution_count": 13,
     "metadata": {},
     "output_type": "execute_result"
    }
   ],
   "source": [
    "np.linspace(0,0.2,5)"
   ]
  },
  {
   "cell_type": "code",
   "execution_count": 14,
   "metadata": {},
   "outputs": [
    {
     "name": "stdout",
     "output_type": "stream",
     "text": [
      "(91421, 8)\n",
      "(2909, 8)\n",
      "(1312, 8)\n",
      "(783, 8)\n",
      "(537, 8)\n"
     ]
    }
   ],
   "source": [
    "for sankey in sankey_array:\n",
    "    print(sankey.shape)"
   ]
  },
  {
   "cell_type": "code",
   "execution_count": 15,
   "metadata": {},
   "outputs": [
    {
     "name": "stdout",
     "output_type": "stream",
     "text": [
      "100\n",
      "84\n",
      "69\n",
      "61\n",
      "52\n"
     ]
    }
   ],
   "source": [
    "for sankey in sankey_array:\n",
    "    print(sankey['topicID'].nunique())"
   ]
  },
  {
   "cell_type": "code",
   "execution_count": 16,
   "metadata": {},
   "outputs": [
    {
     "name": "stdout",
     "output_type": "stream",
     "text": [
      "253\n",
      "1\n",
      "1\n",
      "1\n",
      "1\n"
     ]
    }
   ],
   "source": [
    "for sankey in sankey_array:\n",
    "    print(sankey.groupby(['topicID'])['dealer'].nunique().min())"
   ]
  },
  {
   "cell_type": "code",
   "execution_count": 17,
   "metadata": {},
   "outputs": [
    {
     "name": "stdout",
     "output_type": "stream",
     "text": [
      "516\n",
      "69\n",
      "42\n",
      "32\n",
      "24\n"
     ]
    }
   ],
   "source": [
    "for sankey in sankey_array:\n",
    "    print(sankey.groupby(['topicID'])['dealer'].nunique().max())"
   ]
  },
  {
   "cell_type": "code",
   "execution_count": 18,
   "metadata": {},
   "outputs": [
    {
     "name": "stdout",
     "output_type": "stream",
     "text": [
      "368.83\n",
      "16.88095238095238\n",
      "9.36231884057971\n",
      "6.442622950819672\n",
      "5.096153846153846\n"
     ]
    }
   ],
   "source": [
    "for sankey in sankey_array:\n",
    "    print(sankey.groupby(['topicID'])['dealer'].nunique().mean())"
   ]
  },
  {
   "cell_type": "code",
   "execution_count": 19,
   "metadata": {},
   "outputs": [
    {
     "name": "stdout",
     "output_type": "stream",
     "text": [
      "BfD    26144\n",
      "StD    23687\n",
      "StC    22753\n",
      "BfC    18837\n",
      "Name: B/S, dtype: int64\n",
      "BfD    876\n",
      "StD    792\n",
      "StC    745\n",
      "BfC    496\n",
      "Name: B/S, dtype: int64\n",
      "BfD    392\n",
      "StC    345\n",
      "StD    337\n",
      "BfC    238\n",
      "Name: B/S, dtype: int64\n",
      "BfD    230\n",
      "StC    204\n",
      "StD    192\n",
      "BfC    157\n",
      "Name: B/S, dtype: int64\n",
      "BfD    156\n",
      "StC    139\n",
      "StD    129\n",
      "BfC    113\n",
      "Name: B/S, dtype: int64\n"
     ]
    }
   ],
   "source": [
    "for sankey in sankey_array:\n",
    "    print(sankey['B/S'].value_counts())"
   ]
  },
  {
   "cell_type": "markdown",
   "metadata": {},
   "source": [
    "### Sankey"
   ]
  },
  {
   "cell_type": "raw",
   "metadata": {},
   "source": [
    "# Reverse order of dealer_label_position and topic_encoding if B/S is B\n",
    "def reverse_BS(df):\n",
    "    if df['B/S'] == 'BfD' or df['B/S'] == 'BfC':\n",
    "        return [df['topic_position'],df['dealer_label_position']]\n",
    "    else:\n",
    "        return [df['dealer_label_position'],df['topic_position']]\n",
    "        \n",
    "Dc_v3_dealerXtopic_sum[['dealer_label_position','topic_position']] = Dc_v3_dealerXtopic_sum.apply(reverse_BS,axis=1,result_type='expand')"
   ]
  },
  {
   "cell_type": "code",
   "execution_count": 20,
   "metadata": {},
   "outputs": [],
   "source": [
    "#Dc_v3_dealerXtopic_sum.to_csv(str(\"Dc_v3_50topics_THRESHOLD={}\").format(THRESHOLD))"
   ]
  },
  {
   "cell_type": "code",
   "execution_count": 21,
   "metadata": {},
   "outputs": [
    {
     "ename": "NameError",
     "evalue": "name 'Dc_v3_dealerXtopic_sum' is not defined",
     "output_type": "error",
     "traceback": [
      "\u001b[0;31m---------------------------------------------------------------------------\u001b[0m",
      "\u001b[0;31mNameError\u001b[0m                                 Traceback (most recent call last)",
      "\u001b[0;32m<ipython-input-21-a6bc7463ade5>\u001b[0m in \u001b[0;36m<module>\u001b[0;34m\u001b[0m\n\u001b[0;32m----> 1\u001b[0;31m \u001b[0mDc_v3_dealerXtopic_sum\u001b[0m\u001b[0;34m\u001b[0m\u001b[0;34m\u001b[0m\u001b[0m\n\u001b[0m",
      "\u001b[0;31mNameError\u001b[0m: name 'Dc_v3_dealerXtopic_sum' is not defined"
     ]
    }
   ],
   "source": [
    "Dc_v3_dealerXtopic_sum"
   ]
  },
  {
   "cell_type": "code",
   "execution_count": null,
   "metadata": {},
   "outputs": [],
   "source": [
    "Dc_v3_dealerXtopic_sum['topicID'].values"
   ]
  },
  {
   "cell_type": "code",
   "execution_count": null,
   "metadata": {},
   "outputs": [],
   "source": []
  }
 ],
 "metadata": {
  "kernelspec": {
   "display_name": "Python [conda env:finra]",
   "language": "python",
   "name": "conda-env-finra-py"
  },
  "language_info": {
   "codemirror_mode": {
    "name": "ipython",
    "version": 3
   },
   "file_extension": ".py",
   "mimetype": "text/x-python",
   "name": "python",
   "nbconvert_exporter": "python",
   "pygments_lexer": "ipython3",
   "version": "3.7.4"
  }
 },
 "nbformat": 4,
 "nbformat_minor": 2
}
