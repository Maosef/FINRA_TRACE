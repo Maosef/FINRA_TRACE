{
 "cells": [
  {
   "cell_type": "code",
   "execution_count": 6,
   "metadata": {},
   "outputs": [
    {
     "name": "stdout",
     "output_type": "stream",
     "text": [
      "Index(['Unnamed: 0', 'BOND_SYM_ID', 'CUSIP_ID', 'ISSUER_ID', 'COMPLETE_CUSIP',\n",
      "       'AGENT_ID', 'CUSIP_NAME', 'INDUSTRY_GROUP', 'INDUSTRY_CODE',\n",
      "       'PARENT_ID', 'NAICS_CODE', 'SIC_CODE'],\n",
      "      dtype='object')\n",
      "   Unnamed: 0   BOND_SYM_ID   CUSIP_ID  ISSUER_ID COMPLETE_CUSIP  AGENT_ID  \\\n",
      "0           0  BNPQF3706239  00077TAA2    40263.0      00077TAA2       5.0   \n",
      "1           5    RBS3706239  00077TAA2    40263.0      00077TAA2       5.0   \n",
      "2          13  BNPQF3706241  00077TAB0    40263.0      00077TAB0       5.0   \n",
      "3          14    RBS3706241  00077TAB0    40263.0      00077TAB0       5.0   \n",
      "4          36    TRP3706374  001814AQ5       21.0      001814AQ5      21.0   \n",
      "\n",
      "                CUSIP_NAME  INDUSTRY_GROUP  INDUSTRY_CODE  PARENT_ID  \\\n",
      "0  ABN AMRO BK N V N Y BRH             2.0           20.0     4618.0   \n",
      "1  ABN AMRO BK N V N Y BRH             2.0           20.0     4618.0   \n",
      "2  ABN AMRO BK N V N Y BRH             2.0           20.0     4618.0   \n",
      "3  ABN AMRO BK N V N Y BRH             2.0           20.0     4618.0   \n",
      "4          ANR PIPELINE CO             3.0           31.0    42708.0   \n",
      "\n",
      "   NAICS_CODE  SIC_CODE  \n",
      "0     52211.0    6029.0  \n",
      "1     52211.0    6029.0  \n",
      "2     52211.0    6029.0  \n",
      "3     52211.0    6029.0  \n",
      "4     48621.0    4922.0  \n",
      "<class 'pandas.core.frame.DataFrame'>\n",
      "RangeIndex: 14423 entries, 0 to 14422\n",
      "Data columns (total 12 columns):\n",
      "Unnamed: 0        14423 non-null int64\n",
      "BOND_SYM_ID       14422 non-null object\n",
      "CUSIP_ID          14423 non-null object\n",
      "ISSUER_ID         12712 non-null float64\n",
      "COMPLETE_CUSIP    12712 non-null object\n",
      "AGENT_ID          12712 non-null float64\n",
      "CUSIP_NAME        12712 non-null object\n",
      "INDUSTRY_GROUP    12711 non-null float64\n",
      "INDUSTRY_CODE     12712 non-null float64\n",
      "PARENT_ID         12709 non-null float64\n",
      "NAICS_CODE        12570 non-null float64\n",
      "SIC_CODE          12628 non-null float64\n",
      "dtypes: float64(7), int64(1), object(4)\n",
      "memory usage: 1.3+ MB\n"
     ]
    }
   ],
   "source": [
    "# !python data_analysis.py\n",
    "\n",
    "import pandas as pd\n",
    "\n",
    "df = pd.read_csv('bonds_info.csv')\n",
    "print(df.columns)\n",
    "print(df.head())\n",
    "df.info()\n",
    "\n",
    "# 'BOND_SYM_ID', 'CUSIP_ID','ISSUER_ID', 'COMPLETE_CUSIP', 'AGENT_ID', 'CUSIP_NAME',\n",
    "#     'INDUSTRY_GROUP', 'INDUSTRY_CODE', 'PARENT_ID', 'NAICS_CODE',\n",
    "#     'SIC_CODE'"
   ]
  },
  {
   "cell_type": "code",
   "execution_count": null,
   "metadata": {},
   "outputs": [],
   "source": []
  }
 ],
 "metadata": {
  "kernelspec": {
   "display_name": "Python [conda env:finra]",
   "language": "python",
   "name": "conda-env-finra-py"
  },
  "language_info": {
   "codemirror_mode": {
    "name": "ipython",
    "version": 3
   },
   "file_extension": ".py",
   "mimetype": "text/x-python",
   "name": "python",
   "nbconvert_exporter": "python",
   "pygments_lexer": "ipython3",
   "version": "3.7.4"
  }
 },
 "nbformat": 4,
 "nbformat_minor": 2
}
